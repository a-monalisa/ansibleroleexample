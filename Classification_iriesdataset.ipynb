{
  "nbformat": 4,
  "nbformat_minor": 0,
  "metadata": {
    "colab": {
      "name": "Classification_iriesdataset.ipynb",
      "provenance": [],
      "authorship_tag": "ABX9TyMV82Rt8d8L33KS4JnwxinN",
      "include_colab_link": true
    },
    "kernelspec": {
      "name": "python3",
      "display_name": "Python 3"
    }
  },
  "cells": [
    {
      "cell_type": "markdown",
      "metadata": {
        "id": "view-in-github",
        "colab_type": "text"
      },
      "source": [
        "<a href=\"https://colab.research.google.com/github/a-monalisa/ansibleroleexample/blob/master/Classification_iriesdataset.ipynb\" target=\"_parent\"><img src=\"https://colab.research.google.com/assets/colab-badge.svg\" alt=\"Open In Colab\"/></a>"
      ]
    },
    {
      "cell_type": "code",
      "metadata": {
        "id": "9zPVYfPhc_NK"
      },
      "source": [
        " %tensorflow_version 2.x"
      ],
      "execution_count": 2,
      "outputs": []
    },
    {
      "cell_type": "code",
      "metadata": {
        "id": "bsngogZBgCKj"
      },
      "source": [
        "from __future__ import absolute_import, division, print_function, unicode_literals\r\n",
        "\r\n",
        "\r\n",
        "import tensorflow as tf\r\n",
        "\r\n",
        "import pandas as pd"
      ],
      "execution_count": 3,
      "outputs": []
    },
    {
      "cell_type": "code",
      "metadata": {
        "colab": {
          "base_uri": "https://localhost:8080/"
        },
        "id": "QBjXcpHYgLef",
        "outputId": "34f3298a-24f2-4b6d-8ba5-905e05121d20"
      },
      "source": [
        "train_path = tf.keras.utils.get_file(\r\n",
        "    \"iris_training.csv\", \"https://storage.googleapis.com/download.tensorflow.org/data/iris_training.csv\")\r\n",
        "test_path = tf.keras.utils.get_file(\r\n",
        "    \"iris_test.csv\", \"https://storage.googleapis.com/download.tensorflow.org/data/iris_test.csv\")"
      ],
      "execution_count": 4,
      "outputs": [
        {
          "output_type": "stream",
          "text": [
            "Downloading data from https://storage.googleapis.com/download.tensorflow.org/data/iris_training.csv\n",
            "8192/2194 [================================================================================================================] - 0s 0us/step\n",
            "Downloading data from https://storage.googleapis.com/download.tensorflow.org/data/iris_test.csv\n",
            "8192/573 [============================================================================================================================================================================================================================================================================================================================================================================================================================================] - 0s 0us/step\n"
          ],
          "name": "stdout"
        }
      ]
    },
    {
      "cell_type": "code",
      "metadata": {
        "id": "Y8taGtEXgt_2"
      },
      "source": [
        "CSV_COLUMN_NAMES = ['SepalLength', 'SepalWidth', 'PetalLength', 'PetalWidth', 'Species']\r\n",
        "SPECIES = ['Setosa', 'Versicolor', 'Virginica']#labels"
      ],
      "execution_count": 5,
      "outputs": []
    },
    {
      "cell_type": "code",
      "metadata": {
        "id": "bi8vhE5Mg1-2"
      },
      "source": [
        "train = pd.read_csv(train_path, names=CSV_COLUMN_NAMES, header=0)\r\n",
        "test = pd.read_csv(test_path, names=CSV_COLUMN_NAMES, header=0)\r\n",
        "# Here we use keras (a module inside of TensorFlow) to grab our datasets and read them into a pandas dataframe"
      ],
      "execution_count": 7,
      "outputs": []
    },
    {
      "cell_type": "code",
      "metadata": {
        "colab": {
          "base_uri": "https://localhost:8080/",
          "height": 204
        },
        "id": "QFxelajcg8gx",
        "outputId": "d6a51e58-8444-4382-8bce-f70d3a7f156a"
      },
      "source": [
        "train.head()"
      ],
      "execution_count": 8,
      "outputs": [
        {
          "output_type": "execute_result",
          "data": {
            "text/html": [
              "<div>\n",
              "<style scoped>\n",
              "    .dataframe tbody tr th:only-of-type {\n",
              "        vertical-align: middle;\n",
              "    }\n",
              "\n",
              "    .dataframe tbody tr th {\n",
              "        vertical-align: top;\n",
              "    }\n",
              "\n",
              "    .dataframe thead th {\n",
              "        text-align: right;\n",
              "    }\n",
              "</style>\n",
              "<table border=\"1\" class=\"dataframe\">\n",
              "  <thead>\n",
              "    <tr style=\"text-align: right;\">\n",
              "      <th></th>\n",
              "      <th>SepalLength</th>\n",
              "      <th>SepalWidth</th>\n",
              "      <th>PetalLength</th>\n",
              "      <th>PetalWidth</th>\n",
              "      <th>Species</th>\n",
              "    </tr>\n",
              "  </thead>\n",
              "  <tbody>\n",
              "    <tr>\n",
              "      <th>0</th>\n",
              "      <td>6.4</td>\n",
              "      <td>2.8</td>\n",
              "      <td>5.6</td>\n",
              "      <td>2.2</td>\n",
              "      <td>2</td>\n",
              "    </tr>\n",
              "    <tr>\n",
              "      <th>1</th>\n",
              "      <td>5.0</td>\n",
              "      <td>2.3</td>\n",
              "      <td>3.3</td>\n",
              "      <td>1.0</td>\n",
              "      <td>1</td>\n",
              "    </tr>\n",
              "    <tr>\n",
              "      <th>2</th>\n",
              "      <td>4.9</td>\n",
              "      <td>2.5</td>\n",
              "      <td>4.5</td>\n",
              "      <td>1.7</td>\n",
              "      <td>2</td>\n",
              "    </tr>\n",
              "    <tr>\n",
              "      <th>3</th>\n",
              "      <td>4.9</td>\n",
              "      <td>3.1</td>\n",
              "      <td>1.5</td>\n",
              "      <td>0.1</td>\n",
              "      <td>0</td>\n",
              "    </tr>\n",
              "    <tr>\n",
              "      <th>4</th>\n",
              "      <td>5.7</td>\n",
              "      <td>3.8</td>\n",
              "      <td>1.7</td>\n",
              "      <td>0.3</td>\n",
              "      <td>0</td>\n",
              "    </tr>\n",
              "  </tbody>\n",
              "</table>\n",
              "</div>"
            ],
            "text/plain": [
              "   SepalLength  SepalWidth  PetalLength  PetalWidth  Species\n",
              "0          6.4         2.8          5.6         2.2        2\n",
              "1          5.0         2.3          3.3         1.0        1\n",
              "2          4.9         2.5          4.5         1.7        2\n",
              "3          4.9         3.1          1.5         0.1        0\n",
              "4          5.7         3.8          1.7         0.3        0"
            ]
          },
          "metadata": {
            "tags": []
          },
          "execution_count": 8
        }
      ]
    },
    {
      "cell_type": "code",
      "metadata": {
        "colab": {
          "base_uri": "https://localhost:8080/"
        },
        "id": "bsudZLGnhWSw",
        "outputId": "44d35885-8e65-4344-dbaa-c722538d8524"
      },
      "source": [
        "train_y=train.pop('Species')\r\n",
        "test_y=test.pop('Species')\r\n",
        "train.shape"
      ],
      "execution_count": 9,
      "outputs": [
        {
          "output_type": "execute_result",
          "data": {
            "text/plain": [
              "(120, 4)"
            ]
          },
          "metadata": {
            "tags": []
          },
          "execution_count": 9
        }
      ]
    },
    {
      "cell_type": "markdown",
      "metadata": {
        "id": "biMaED4ghrI1"
      },
      "source": [
        "Input Function"
      ]
    },
    {
      "cell_type": "code",
      "metadata": {
        "id": "_4BUN6eyhtsq"
      },
      "source": [
        "def input_fn(features, labels, training=True, batch_size=256):\r\n",
        "    # Convert the inputs to a Dataset.\r\n",
        "    dataset = tf.data.Dataset.from_tensor_slices((dict(features), labels))\r\n",
        "\r\n",
        "    # Shuffle and repeat if you are in training mode.\r\n",
        "    if training:\r\n",
        "        dataset = dataset.shuffle(1000).repeat()\r\n",
        "    \r\n",
        "    return dataset.batch(batch_size)"
      ],
      "execution_count": 10,
      "outputs": []
    },
    {
      "cell_type": "markdown",
      "metadata": {
        "id": "-KSysmB9iRou"
      },
      "source": [
        "Feature Columns (As all columns are numeric columns)"
      ]
    },
    {
      "cell_type": "code",
      "metadata": {
        "colab": {
          "base_uri": "https://localhost:8080/"
        },
        "id": "z8plAUtciYFd",
        "outputId": "4419e8b1-ea77-4e07-e158-a6e5606ba348"
      },
      "source": [
        "my_feature_columns = []\r\n",
        "for key in train.keys():\r\n",
        "    my_feature_columns.append(tf.feature_column.numeric_column(key=key))\r\n",
        "print(my_feature_columns)"
      ],
      "execution_count": 11,
      "outputs": [
        {
          "output_type": "stream",
          "text": [
            "[NumericColumn(key='SepalLength', shape=(1,), default_value=None, dtype=tf.float32, normalizer_fn=None), NumericColumn(key='SepalWidth', shape=(1,), default_value=None, dtype=tf.float32, normalizer_fn=None), NumericColumn(key='PetalLength', shape=(1,), default_value=None, dtype=tf.float32, normalizer_fn=None), NumericColumn(key='PetalWidth', shape=(1,), default_value=None, dtype=tf.float32, normalizer_fn=None)]\n"
          ],
          "name": "stdout"
        }
      ]
    },
    {
      "cell_type": "markdown",
      "metadata": {
        "id": "TRd251NWn8TU"
      },
      "source": [
        "Using a Deep Neural Network Classifier"
      ]
    },
    {
      "cell_type": "code",
      "metadata": {
        "colab": {
          "base_uri": "https://localhost:8080/"
        },
        "id": "QhpAaM5djGUT",
        "outputId": "7bf06be1-0c3c-4cf0-eef4-e3fd68ff7ea8"
      },
      "source": [
        " #Build a DNN with 2 hidden layers with 30 and 10 hidden nodes each.\r\n",
        "classifier = tf.estimator.DNNClassifier(\r\n",
        "    feature_columns=my_feature_columns,\r\n",
        "    # Two hidden layers of 30 and 10 nodes respectively.\r\n",
        "    hidden_units=[30, 10],\r\n",
        "    # The model must choose between 3 classes.\r\n",
        "    n_classes=3)"
      ],
      "execution_count": 13,
      "outputs": [
        {
          "output_type": "stream",
          "text": [
            "INFO:tensorflow:Using default config.\n",
            "WARNING:tensorflow:Using temporary folder as model directory: /tmp/tmpamihbl08\n",
            "INFO:tensorflow:Using config: {'_model_dir': '/tmp/tmpamihbl08', '_tf_random_seed': None, '_save_summary_steps': 100, '_save_checkpoints_steps': None, '_save_checkpoints_secs': 600, '_session_config': allow_soft_placement: true\n",
            "graph_options {\n",
            "  rewrite_options {\n",
            "    meta_optimizer_iterations: ONE\n",
            "  }\n",
            "}\n",
            ", '_keep_checkpoint_max': 5, '_keep_checkpoint_every_n_hours': 10000, '_log_step_count_steps': 100, '_train_distribute': None, '_device_fn': None, '_protocol': None, '_eval_distribute': None, '_experimental_distribute': None, '_experimental_max_worker_delay_secs': None, '_session_creation_timeout_secs': 7200, '_checkpoint_save_graph_def': True, '_service': None, '_cluster_spec': ClusterSpec({}), '_task_type': 'worker', '_task_id': 0, '_global_id_in_cluster': 0, '_master': '', '_evaluation_master': '', '_is_chief': True, '_num_ps_replicas': 0, '_num_worker_replicas': 1}\n"
          ],
          "name": "stdout"
        }
      ]
    },
    {
      "cell_type": "markdown",
      "metadata": {
        "id": "6c5-GrebqA1x"
      },
      "source": [
        "Train the classifier"
      ]
    },
    {
      "cell_type": "code",
      "metadata": {
        "colab": {
          "base_uri": "https://localhost:8080/"
        },
        "id": "mih2YzoFqDG0",
        "outputId": "617e3d94-be31-4dbd-9c71-2aaee9412594"
      },
      "source": [
        "classifier.train(\r\n",
        "    input_fn=lambda: input_fn(train, train_y, training=True),\r\n",
        "    steps=5000)\r\n",
        "\r\n",
        "#lambda 1 line function\r\n",
        "#x= lambda: print(\"hello\")\r\n",
        "#x()"
      ],
      "execution_count": 15,
      "outputs": [
        {
          "output_type": "stream",
          "text": [
            "WARNING:tensorflow:From /usr/local/lib/python3.7/dist-packages/tensorflow/python/training/training_util.py:236: Variable.initialized_value (from tensorflow.python.ops.variables) is deprecated and will be removed in a future version.\n",
            "Instructions for updating:\n",
            "Use Variable.read_value. Variables in 2.X are initialized automatically both in eager and graph (inside tf.defun) contexts.\n",
            "INFO:tensorflow:Calling model_fn.\n",
            "WARNING:tensorflow:From /usr/local/lib/python3.7/dist-packages/tensorflow/python/keras/optimizer_v2/adagrad.py:83: calling Constant.__init__ (from tensorflow.python.ops.init_ops) with dtype is deprecated and will be removed in a future version.\n",
            "Instructions for updating:\n",
            "Call initializer instance with the dtype argument instead of passing it to the constructor\n",
            "INFO:tensorflow:Done calling model_fn.\n",
            "INFO:tensorflow:Create CheckpointSaverHook.\n",
            "INFO:tensorflow:Graph was finalized.\n",
            "INFO:tensorflow:Running local_init_op.\n",
            "INFO:tensorflow:Done running local_init_op.\n",
            "INFO:tensorflow:Calling checkpoint listeners before saving checkpoint 0...\n",
            "INFO:tensorflow:Saving checkpoints for 0 into /tmp/tmpamihbl08/model.ckpt.\n",
            "INFO:tensorflow:Calling checkpoint listeners after saving checkpoint 0...\n",
            "INFO:tensorflow:loss = 1.13967, step = 0\n",
            "INFO:tensorflow:global_step/sec: 321.102\n",
            "INFO:tensorflow:loss = 0.9527893, step = 100 (0.313 sec)\n",
            "INFO:tensorflow:global_step/sec: 381.026\n",
            "INFO:tensorflow:loss = 0.8877152, step = 200 (0.265 sec)\n",
            "INFO:tensorflow:global_step/sec: 340.605\n",
            "INFO:tensorflow:loss = 0.8453183, step = 300 (0.295 sec)\n",
            "INFO:tensorflow:global_step/sec: 351.251\n",
            "INFO:tensorflow:loss = 0.825608, step = 400 (0.284 sec)\n",
            "INFO:tensorflow:global_step/sec: 341.344\n",
            "INFO:tensorflow:loss = 0.7847165, step = 500 (0.290 sec)\n",
            "INFO:tensorflow:global_step/sec: 377.182\n",
            "INFO:tensorflow:loss = 0.75916666, step = 600 (0.265 sec)\n",
            "INFO:tensorflow:global_step/sec: 331.711\n",
            "INFO:tensorflow:loss = 0.74840283, step = 700 (0.303 sec)\n",
            "INFO:tensorflow:global_step/sec: 317.218\n",
            "INFO:tensorflow:loss = 0.7213137, step = 800 (0.315 sec)\n",
            "INFO:tensorflow:global_step/sec: 335.161\n",
            "INFO:tensorflow:loss = 0.69647115, step = 900 (0.305 sec)\n",
            "INFO:tensorflow:global_step/sec: 296.293\n",
            "INFO:tensorflow:loss = 0.6717057, step = 1000 (0.330 sec)\n",
            "INFO:tensorflow:global_step/sec: 361.397\n",
            "INFO:tensorflow:loss = 0.66232127, step = 1100 (0.280 sec)\n",
            "INFO:tensorflow:global_step/sec: 410.301\n",
            "INFO:tensorflow:loss = 0.6473627, step = 1200 (0.242 sec)\n",
            "INFO:tensorflow:global_step/sec: 338.941\n",
            "INFO:tensorflow:loss = 0.64661276, step = 1300 (0.300 sec)\n",
            "INFO:tensorflow:global_step/sec: 351.754\n",
            "INFO:tensorflow:loss = 0.62623024, step = 1400 (0.283 sec)\n",
            "INFO:tensorflow:global_step/sec: 380.339\n",
            "INFO:tensorflow:loss = 0.60528415, step = 1500 (0.257 sec)\n",
            "INFO:tensorflow:global_step/sec: 337.59\n",
            "INFO:tensorflow:loss = 0.6001446, step = 1600 (0.297 sec)\n",
            "INFO:tensorflow:global_step/sec: 292.869\n",
            "INFO:tensorflow:loss = 0.5868222, step = 1700 (0.345 sec)\n",
            "INFO:tensorflow:global_step/sec: 336.659\n",
            "INFO:tensorflow:loss = 0.5753228, step = 1800 (0.297 sec)\n",
            "INFO:tensorflow:global_step/sec: 393.918\n",
            "INFO:tensorflow:loss = 0.5649663, step = 1900 (0.255 sec)\n",
            "INFO:tensorflow:global_step/sec: 388.291\n",
            "INFO:tensorflow:loss = 0.5692737, step = 2000 (0.252 sec)\n",
            "INFO:tensorflow:global_step/sec: 396.513\n",
            "INFO:tensorflow:loss = 0.54366374, step = 2100 (0.256 sec)\n",
            "INFO:tensorflow:global_step/sec: 339.755\n",
            "INFO:tensorflow:loss = 0.5218098, step = 2200 (0.296 sec)\n",
            "INFO:tensorflow:global_step/sec: 327.844\n",
            "INFO:tensorflow:loss = 0.53045964, step = 2300 (0.303 sec)\n",
            "INFO:tensorflow:global_step/sec: 370.192\n",
            "INFO:tensorflow:loss = 0.5221453, step = 2400 (0.266 sec)\n",
            "INFO:tensorflow:global_step/sec: 402.214\n",
            "INFO:tensorflow:loss = 0.5093208, step = 2500 (0.249 sec)\n",
            "INFO:tensorflow:global_step/sec: 336.251\n",
            "INFO:tensorflow:loss = 0.50430024, step = 2600 (0.304 sec)\n",
            "INFO:tensorflow:global_step/sec: 406.632\n",
            "INFO:tensorflow:loss = 0.49674726, step = 2700 (0.240 sec)\n",
            "INFO:tensorflow:global_step/sec: 391.685\n",
            "INFO:tensorflow:loss = 0.49114436, step = 2800 (0.259 sec)\n",
            "INFO:tensorflow:global_step/sec: 388.559\n",
            "INFO:tensorflow:loss = 0.4926817, step = 2900 (0.256 sec)\n",
            "INFO:tensorflow:global_step/sec: 371.28\n",
            "INFO:tensorflow:loss = 0.48422962, step = 3000 (0.271 sec)\n",
            "INFO:tensorflow:global_step/sec: 397.305\n",
            "INFO:tensorflow:loss = 0.47287196, step = 3100 (0.248 sec)\n",
            "INFO:tensorflow:global_step/sec: 393.162\n",
            "INFO:tensorflow:loss = 0.4712728, step = 3200 (0.255 sec)\n",
            "INFO:tensorflow:global_step/sec: 373.387\n",
            "INFO:tensorflow:loss = 0.46689087, step = 3300 (0.270 sec)\n",
            "INFO:tensorflow:global_step/sec: 375.615\n",
            "INFO:tensorflow:loss = 0.46206954, step = 3400 (0.264 sec)\n",
            "INFO:tensorflow:global_step/sec: 411.216\n",
            "INFO:tensorflow:loss = 0.45602453, step = 3500 (0.243 sec)\n",
            "INFO:tensorflow:global_step/sec: 428.014\n",
            "INFO:tensorflow:loss = 0.44251847, step = 3600 (0.237 sec)\n",
            "INFO:tensorflow:global_step/sec: 336.336\n",
            "INFO:tensorflow:loss = 0.44455135, step = 3700 (0.296 sec)\n",
            "INFO:tensorflow:global_step/sec: 410.824\n",
            "INFO:tensorflow:loss = 0.44754064, step = 3800 (0.248 sec)\n",
            "INFO:tensorflow:global_step/sec: 329.063\n",
            "INFO:tensorflow:loss = 0.4254001, step = 3900 (0.300 sec)\n",
            "INFO:tensorflow:global_step/sec: 329.551\n",
            "INFO:tensorflow:loss = 0.43256858, step = 4000 (0.304 sec)\n",
            "INFO:tensorflow:global_step/sec: 333.604\n",
            "INFO:tensorflow:loss = 0.4212633, step = 4100 (0.298 sec)\n",
            "INFO:tensorflow:global_step/sec: 333.201\n",
            "INFO:tensorflow:loss = 0.40760332, step = 4200 (0.298 sec)\n",
            "INFO:tensorflow:global_step/sec: 329.186\n",
            "INFO:tensorflow:loss = 0.42246437, step = 4300 (0.309 sec)\n",
            "INFO:tensorflow:global_step/sec: 338.208\n",
            "INFO:tensorflow:loss = 0.42164975, step = 4400 (0.291 sec)\n",
            "INFO:tensorflow:global_step/sec: 396.799\n",
            "INFO:tensorflow:loss = 0.40942806, step = 4500 (0.254 sec)\n",
            "INFO:tensorflow:global_step/sec: 353.188\n",
            "INFO:tensorflow:loss = 0.39957672, step = 4600 (0.282 sec)\n",
            "INFO:tensorflow:global_step/sec: 322.357\n",
            "INFO:tensorflow:loss = 0.40074494, step = 4700 (0.310 sec)\n",
            "INFO:tensorflow:global_step/sec: 379.942\n",
            "INFO:tensorflow:loss = 0.39021695, step = 4800 (0.269 sec)\n",
            "INFO:tensorflow:global_step/sec: 340.32\n",
            "INFO:tensorflow:loss = 0.39853665, step = 4900 (0.287 sec)\n",
            "INFO:tensorflow:Calling checkpoint listeners before saving checkpoint 5000...\n",
            "INFO:tensorflow:Saving checkpoints for 5000 into /tmp/tmpamihbl08/model.ckpt.\n",
            "INFO:tensorflow:Calling checkpoint listeners after saving checkpoint 5000...\n",
            "INFO:tensorflow:Loss for final step: 0.39068282.\n"
          ],
          "name": "stdout"
        },
        {
          "output_type": "execute_result",
          "data": {
            "text/plain": [
              "<tensorflow_estimator.python.estimator.canned.dnn.DNNClassifierV2 at 0x7f1bbf157190>"
            ]
          },
          "metadata": {
            "tags": []
          },
          "execution_count": 15
        }
      ]
    },
    {
      "cell_type": "markdown",
      "metadata": {
        "id": "q1Zl08nDrT34"
      },
      "source": [
        "Evaluate (Test)"
      ]
    },
    {
      "cell_type": "code",
      "metadata": {
        "colab": {
          "base_uri": "https://localhost:8080/"
        },
        "id": "zPhbXiAirNSh",
        "outputId": "ff62ee3e-94fe-4ee3-9fc0-8b706e07eee7"
      },
      "source": [
        "eval_result = classifier.evaluate(\r\n",
        "    input_fn=lambda: input_fn(test, test_y, training=False))\r\n",
        "print('\\nTest set accuracy: {accuracy:0.3f}\\n'.format(**eval_result))"
      ],
      "execution_count": 17,
      "outputs": [
        {
          "output_type": "stream",
          "text": [
            "INFO:tensorflow:Calling model_fn.\n",
            "INFO:tensorflow:Done calling model_fn.\n",
            "INFO:tensorflow:Starting evaluation at 2021-03-12T22:04:17Z\n",
            "INFO:tensorflow:Graph was finalized.\n",
            "INFO:tensorflow:Restoring parameters from /tmp/tmpamihbl08/model.ckpt-5000\n",
            "INFO:tensorflow:Running local_init_op.\n",
            "INFO:tensorflow:Done running local_init_op.\n",
            "INFO:tensorflow:Inference Time : 0.26597s\n",
            "INFO:tensorflow:Finished evaluation at 2021-03-12-22:04:18\n",
            "INFO:tensorflow:Saving dict for global step 5000: accuracy = 0.8333333, average_loss = 0.4686338, global_step = 5000, loss = 0.4686338\n",
            "INFO:tensorflow:Saving 'checkpoint_path' summary for global step 5000: /tmp/tmpamihbl08/model.ckpt-5000\n",
            "\n",
            "Test set accuracy: 0.833\n",
            "\n"
          ],
          "name": "stdout"
        }
      ]
    },
    {
      "cell_type": "markdown",
      "metadata": {
        "id": "lnJAJTVjrt0K"
      },
      "source": [
        "Predictions"
      ]
    },
    {
      "cell_type": "code",
      "metadata": {
        "colab": {
          "base_uri": "https://localhost:8080/"
        },
        "id": "gEWlQuJqrsoE",
        "outputId": "215aa9bc-469c-43f6-b1ff-b2b6bfbf4892"
      },
      "source": [
        "def input_fn(features, batch_size=256):\r\n",
        "    # Convert the inputs to a Dataset without labels.\r\n",
        "    return tf.data.Dataset.from_tensor_slices(dict(features)).batch(batch_size)\r\n",
        "features = ['SepalLength', 'SepalWidth', 'PetalLength', 'PetalWidth']\r\n",
        "predict = {}\r\n",
        "\r\n",
        "print(\"Please type numeric values as prompted.\") #Show in user prompt\r\n",
        "for feature in features:\r\n",
        "  valid = True\r\n",
        "  while valid: \r\n",
        "    val = input(feature + \": \")\r\n",
        "    if not val.isdigit(): valid = False\r\n",
        "\r\n",
        "  predict[feature] = [float(val)]\r\n",
        "\r\n",
        "predictions = classifier.predict(input_fn=lambda: input_fn(predict))\r\n",
        "for pred_dict in predictions:\r\n",
        "    class_id = pred_dict['class_ids'][0]\r\n",
        "    probability = pred_dict['probabilities'][class_id]\r\n",
        "\r\n",
        "    print('Prediction is \"{}\" ({:.1f}%)'.format(\r\n",
        "        SPECIES[class_id], 100 * probability))\r\n",
        "\r\n"
      ],
      "execution_count": 18,
      "outputs": [
        {
          "output_type": "stream",
          "text": [
            "Please type numeric values as prompted.\n",
            "SepalLength: 2.4\n",
            "SepalWidth: 2.6\n",
            "PetalLength: 6.5\n",
            "PetalWidth: 6.3\n",
            "INFO:tensorflow:Calling model_fn.\n",
            "INFO:tensorflow:Done calling model_fn.\n",
            "INFO:tensorflow:Graph was finalized.\n",
            "INFO:tensorflow:Restoring parameters from /tmp/tmpamihbl08/model.ckpt-5000\n",
            "INFO:tensorflow:Running local_init_op.\n",
            "INFO:tensorflow:Done running local_init_op.\n",
            "Prediction is \"Virginica\" (89.2%)\n"
          ],
          "name": "stdout"
        }
      ]
    }
  ]
}